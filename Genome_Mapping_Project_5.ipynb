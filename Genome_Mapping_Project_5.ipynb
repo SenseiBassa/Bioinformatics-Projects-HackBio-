{
  "nbformat": 4,
  "nbformat_minor": 0,
  "metadata": {
    "colab": {
      "provenance": [],
      "authorship_tag": "ABX9TyPv1cRYVZ1Qfj2sgH6CBz8I",
      "include_colab_link": true
    },
    "kernelspec": {
      "name": "python3",
      "display_name": "Python 3"
    },
    "language_info": {
      "name": "python"
    }
  },
  "cells": [
    {
      "cell_type": "markdown",
      "metadata": {
        "id": "view-in-github",
        "colab_type": "text"
      },
      "source": [
        "<a href=\"https://colab.research.google.com/github/SenseiBassa/Bioinformatics-Projects-HackBio-/blob/main/Genome_Mapping_Project_5.ipynb\" target=\"_parent\"><img src=\"https://colab.research.google.com/assets/colab-badge.svg\" alt=\"Open In Colab\"/></a>"
      ]
    },
    {
      "cell_type": "markdown",
      "source": [
        "%%bash\n",
        "#--------------------\n",
        "# Introduction to the Genome Mapping Project\n",
        "# Task: Task: Map Trimmed Reads to a Reference Genome\n",
        "# By: Bassa Joshua Samuel\n",
        "# Date: 10/09/2025\n",
        "# In brief: Map trimmed paired-end reads to a reference genome by repairing them, aligning with BWA, and converting the results to BAM format with Samtools.\n",
        "\n",
        "# Tools needed: bwa, samtools, bbmap (repair.sh), fastp.\n",
        "#----------------------------------\n",
        "\n",
        "\n",
        "\n",
        "Introduction to the Genome Mapping\n",
        "\n",
        "As we navigate the vast expanse of genomic data, the next crucial step in our journey is genome mapping—a process that aligns raw sequencing reads to a reference genome. Genome mapping is the compass that guides us through the intricacies of genomic landscapes, allowing us to decipher the genomic coordinates of individual reads.\n",
        "\n",
        "The Problem:\n",
        "Imagine your raw sequencing reads as puzzle pieces scattered across a table, each representing a fragment of the biological story encoded in the DNA. The challenge lies in piecing together these fragments accurately, ensuring that they align with the reference genome in a meaningful and biologically relevant manner. Failure to address this alignment challenge can introduce errors, misalignments, and ultimately lead to skewed interpretations of the genomic narrative.\n",
        "\n",
        "The Need for Genome Mapping:\n",
        "Genome mapping is the critical bridge that connects raw sequencing reads to the known blueprint of a reference genome. It's analogous to reading a map—a precise and accurate alignment ensures that we correctly identify the genomic location of each read, allowing us to navigate the vast genomic landscape with confidence. A well-executed genome mapping step is foundational for downstream analyses such as variant calling, structural variant identification, and functional annotation.\n",
        "So, let's embark on this journey of genomic navigation and discover how genome mapping serves as the key to unlocking the wealth of information embedded in our DNA. Welcome to the Genome Mapping section of the Genomics Data Analysis Pipeline Course!\n",
        "\n",
        "\n",
        "TYPES OF GENOME MAPPING\n",
        "\n",
        "- Reference Based genome mapping (reference based).\n",
        "- De Novo based genome mapping (manual)\n",
        "\n",
        "STEPS FOR REFERENCED BASED GENOME MAPPING.\n",
        "\n",
        "- Correct for disordered reads with bbtoois repair.sh\n",
        "- Build the reference genome index with bwa index\n",
        "- Perform alignment with bwa mem (suitable for reads between 70 - 1000bp in fragment length. bwa is suitable for shorter reads or backtrack algorithm).\n",
        "- Compress the alignment output with samtools\n",
        "\n",
        " Voila, you are done!"
      ],
      "metadata": {
        "id": "mGfZcVxaEQN8"
      }
    },
    {
      "cell_type": "code",
      "execution_count": null,
      "metadata": {
        "id": "csXxb5n1EPet"
      },
      "outputs": [],
      "source": [
        "# Code for automating BWA implementation\n",
        "#!/bin/bash\n",
        "\n",
        "SAMPLES=(\n",
        "  \"ACBarrie\"\n",
        "  \"Alsen\"\n",
        "  \"Baxter\"\n",
        "  \"Chara\"\n",
        "  \"Drysdale\"\n",
        ")\n",
        "\n",
        "bwa index references/reference.fasta\n",
        "mkdir repaired\n",
        "mkdir alignment_map\n",
        "\n",
        "for SAMPLE in \"${SAMPLES[@]}\"; do\n",
        "\n",
        "    repair.sh in1=\"trimmed_reads/${SAMPLE}_R1.fastq.gz\" in2=\"trimmed_reads/${SAMPLE}_R2.fastq.gz\" out1=\"repaired/${SAMPLE}_R1_rep.fastq.gz\" out2=\"repaired/${SAMPLE}_R2_rep.fastq.gz\" outsingle=\"repaired/${SAMPLE}_single.fq\"\n",
        "    echo $PWD\n",
        "    bwa mem -t 1 \\\n",
        "    references/reference.fasta \\\n",
        "    \"repaired/${SAMPLE}_R1_rep.fastq.gz\" \"repaired/${SAMPLE}_R2_rep.fastq.gz\" \\\n",
        "  | samtools view -b \\\n",
        "  > \"alignment_map/${SAMPLE}.bam\"\n",
        "done"
      ]
    },
    {
      "cell_type": "code",
      "source": [],
      "metadata": {
        "id": "3JCT2KT3LPhz"
      },
      "execution_count": null,
      "outputs": []
    },
    {
      "cell_type": "markdown",
      "source": [
        "Task: Map Trimmed Reads to a Reference Genome\n",
        "\n",
        "Create directories: repaired and alignment_map.\n",
        "\n",
        "Prepare the reference genome for mapping:\n",
        "bwa index references/reference.fasta\n",
        "\n",
        "For a set of paired-end samples (ACBarrie, Alsen, Baxter, Chara, Drysdale), run repair.sh on each sample to repair reads and handle singletons.\n",
        "\n",
        "Map repaired reads to the reference genome using bwa mem.\n",
        "\n",
        "Convert the resulting SAM output to BAM format using samtools view -b.\n",
        "\n",
        "Save each BAM file in alignment_map/ named after the corresponding sample."
      ],
      "metadata": {
        "id": "4tZJ3mIRL1my"
      }
    },
    {
      "cell_type": "code",
      "source": [
        "#!/bin/bash\n",
        "\n",
        "# ================================\n",
        "# Install Required Tools (Linux)\n",
        "# ================================\n",
        "# Ensure conda or apt is available. Uncomment the appropriate section.\n",
        "\n",
        "# Using conda (recommended):\n",
        "# conda install -c bioconda bwa samtools bbmap fastp\n",
        "\n",
        "# OR using apt (if available on system):\n",
        "# sudo apt-get update\n",
        "# sudo apt-get install -y bwa samtools bbmap fastp\n",
        "\n",
        "# ================================\n",
        "# Mapping Workflow\n",
        "# ================================\n",
        "\n",
        "# Create output directories\n",
        "mkdir -p repaired alignment_map\n",
        "\n",
        "# Index the reference genome\n",
        "bwa index references/reference.fasta\n",
        "\n",
        "# Define sample names\n",
        "samples=(ACBarrie Alsen Baxter Chara Drysdale)\n",
        "\n",
        "# Process each sample\n",
        "for SAMPLE in \"${samples[@]}\"; do\n",
        "    # Repair paired-end reads\n",
        "    repair.sh \\\n",
        "        in1=qc_reads/${SAMPLE}_R1.fastq.gz \\\n",
        "        in2=qc_reads/${SAMPLE}_R2.fastq.gz \\\n",
        "        out1=repaired/${SAMPLE}_R1.fastq.gz \\\n",
        "        out2=repaired/${SAMPLE}_R2.fastq.gz \\\n",
        "        outs=repaired/${SAMPLE}_singletons.fastq.gz\n",
        "\n",
        "    # Map repaired reads and convert SAM to BAM\n",
        "    bwa mem references/reference.fasta \\\n",
        "        repaired/${SAMPLE}_R1.fastq.gz \\\n",
        "        repaired/${SAMPLE}_R2.fastq.gz | \\\n",
        "    samtools view -b -o alignment_map/${SAMPLE}.bam\n",
        "done\n"
      ],
      "metadata": {
        "id": "x8CUetYlLzgy"
      },
      "execution_count": null,
      "outputs": []
    }
  ]
}